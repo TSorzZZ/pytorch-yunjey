{
 "cells": [
  {
   "cell_type": "code",
   "execution_count": 2,
   "metadata": {},
   "outputs": [],
   "source": [
    "import torch\n",
    "import torch.nn as nn\n",
    "import torchvision\n",
    "import torchvision.transforms as transforms"
   ]
  },
  {
   "cell_type": "code",
   "execution_count": 3,
   "metadata": {},
   "outputs": [],
   "source": [
    "#hyper parameters\n",
    "input_size = 28*28\n",
    "output_size = 10\n",
    "num_epochs = 50\n",
    "batch_size = 100\n",
    "learning_rate = 0.001"
   ]
  },
  {
   "cell_type": "code",
   "execution_count": 4,
   "metadata": {},
   "outputs": [],
   "source": [
    "#data download\n",
    "train_dataset = torchvision.datasets.MNIST(root='../../data', \n",
    "                                           train=False, \n",
    "                                           transform=transforms.ToTensor(),\n",
    "                                           download=True)\n",
    "\n",
    "test_dataset = torchvision.datasets.MNIST(root='../../data', \n",
    "                                          train=False, \n",
    "                                          transform=transforms.ToTensor())"
   ]
  },
  {
   "cell_type": "code",
   "execution_count": 5,
   "metadata": {},
   "outputs": [],
   "source": [
    "#data loader\n",
    "train_loader = torch.utils.data.DataLoader(dataset=train_dataset,\n",
    "                                           batch_size=batch_size,\n",
    "                                           shuffle=True)\n",
    "test_loader = torch.utils.data.DataLoader(dataset=test_dataset,\n",
    "                                          batch_size=batch_size,\n",
    "                                          shuffle=False)\n",
    "                                           "
   ]
  },
  {
   "cell_type": "code",
   "execution_count": 6,
   "metadata": {},
   "outputs": [],
   "source": [
    "#model create\n",
    "model = nn.Linear(input_size,output_size)"
   ]
  },
  {
   "cell_type": "code",
   "execution_count": 7,
   "metadata": {},
   "outputs": [
    {
     "name": "stdout",
     "output_type": "stream",
     "text": [
      "torch.Size([10000, 28, 28])\n"
     ]
    }
   ],
   "source": [
    "#define loss and optimizer\n",
    "criterion = nn.CrossEntropyLoss()\n",
    "optimizer = torch.optim.SGD(model.parameters(),lr=learning_rate)\n",
    "\n",
    "print(train_loader.dataset.data.shape)"
   ]
  },
  {
   "cell_type": "code",
   "execution_count": 10,
   "metadata": {},
   "outputs": [
    {
     "name": "stdout",
     "output_type": "stream",
     "text": [
      "Epoch:1,step:100,loss:0.5184\n",
      "Epoch:2,step:100,loss:0.4875\n",
      "Epoch:3,step:100,loss:0.5185\n",
      "Epoch:4,step:100,loss:0.5082\n",
      "Epoch:5,step:100,loss:0.6569\n",
      "Epoch:6,step:100,loss:0.4590\n",
      "Epoch:7,step:100,loss:0.4549\n",
      "Epoch:8,step:100,loss:0.5585\n",
      "Epoch:9,step:100,loss:0.5658\n",
      "Epoch:10,step:100,loss:0.4289\n",
      "Epoch:11,step:100,loss:0.4981\n",
      "Epoch:12,step:100,loss:0.4299\n",
      "Epoch:13,step:100,loss:0.5586\n",
      "Epoch:14,step:100,loss:0.4515\n",
      "Epoch:15,step:100,loss:0.4733\n",
      "Epoch:16,step:100,loss:0.5384\n",
      "Epoch:17,step:100,loss:0.5231\n",
      "Epoch:18,step:100,loss:0.5561\n",
      "Epoch:19,step:100,loss:0.4980\n",
      "Epoch:20,step:100,loss:0.5530\n",
      "Epoch:21,step:100,loss:0.5042\n",
      "Epoch:22,step:100,loss:0.5427\n",
      "Epoch:23,step:100,loss:0.5110\n",
      "Epoch:24,step:100,loss:0.5173\n",
      "Epoch:25,step:100,loss:0.4822\n",
      "Epoch:26,step:100,loss:0.5206\n",
      "Epoch:27,step:100,loss:0.5340\n",
      "Epoch:28,step:100,loss:0.4306\n",
      "Epoch:29,step:100,loss:0.4175\n",
      "Epoch:30,step:100,loss:0.4493\n",
      "Epoch:31,step:100,loss:0.5178\n",
      "Epoch:32,step:100,loss:0.4442\n",
      "Epoch:33,step:100,loss:0.5098\n",
      "Epoch:34,step:100,loss:0.5261\n",
      "Epoch:35,step:100,loss:0.4393\n",
      "Epoch:36,step:100,loss:0.5371\n",
      "Epoch:37,step:100,loss:0.5727\n",
      "Epoch:38,step:100,loss:0.5282\n",
      "Epoch:39,step:100,loss:0.5846\n",
      "Epoch:40,step:100,loss:0.5060\n",
      "Epoch:41,step:100,loss:0.5373\n",
      "Epoch:42,step:100,loss:0.4667\n",
      "Epoch:43,step:100,loss:0.4259\n",
      "Epoch:44,step:100,loss:0.4928\n",
      "Epoch:45,step:100,loss:0.5311\n",
      "Epoch:46,step:100,loss:0.4153\n",
      "Epoch:47,step:100,loss:0.4111\n",
      "Epoch:48,step:100,loss:0.3847\n",
      "Epoch:49,step:100,loss:0.4061\n",
      "Epoch:50,step:100,loss:0.5429\n"
     ]
    }
   ],
   "source": [
    "loss_list = []\n",
    "\n",
    "#train\n",
    "for epoch in range(num_epochs):\n",
    "    for i,(images,labels) in enumerate(train_loader):\n",
    "        images = images.reshape(-1,input_size)\n",
    "        \n",
    "        #forward propagation\n",
    "        pred = model(images)  \n",
    "        loss = criterion(pred,labels)\n",
    "        #backward propagation and optimize\n",
    "        optimizer.zero_grad()\n",
    "        loss.backward()\n",
    "        optimizer.step()\n",
    "        loss_list.append(loss.item())\n",
    "        if (i+1) % 100 == 0:\n",
    "            print('Epoch:{},step:{},loss:{:.4f}'.format(epoch+1,i+1,loss.item()))\n",
    "        \n",
    "        "
   ]
  },
  {
   "cell_type": "code",
   "execution_count": 25,
   "metadata": {},
   "outputs": [
    {
     "name": "stdout",
     "output_type": "stream",
     "text": [
      "Accuracy of the model on the 10000 test images: 88 %\n"
     ]
    }
   ],
   "source": [
    "#model test\n",
    "with torch.no_grad():\n",
    "    correct = 0\n",
    "    total = 0\n",
    "    for images,labels in test_loader:\n",
    "        images = images.reshape(-1,input_size)\n",
    "        \n",
    "        pred = model(images)\n",
    "        _, predicted = torch.max(pred.data, 1)\n",
    "        total += labels.shape[0]\n",
    "        correct += (predicted == labels).sum()\n",
    "    print('Accuracy of the model on the 10000 test images: {} %'.format(100 * correct / total))"
   ]
  },
  {
   "cell_type": "code",
   "execution_count": 26,
   "metadata": {},
   "outputs": [],
   "source": [
    "# Save the model checkpoint\n",
    "torch.save(model.state_dict(), 'logistic_regression.ckpt')"
   ]
  },
  {
   "cell_type": "code",
   "execution_count": null,
   "metadata": {},
   "outputs": [],
   "source": []
  }
 ],
 "metadata": {
  "kernelspec": {
   "display_name": "Python 3",
   "language": "python",
   "name": "python3"
  },
  "language_info": {
   "codemirror_mode": {
    "name": "ipython",
    "version": 3
   },
   "file_extension": ".py",
   "mimetype": "text/x-python",
   "name": "python",
   "nbconvert_exporter": "python",
   "pygments_lexer": "ipython3",
   "version": "3.6.5"
  }
 },
 "nbformat": 4,
 "nbformat_minor": 2
}
